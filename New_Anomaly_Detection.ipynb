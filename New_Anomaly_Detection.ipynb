{
 "cells": [
  {
   "cell_type": "code",
   "execution_count": 1,
   "metadata": {},
   "outputs": [],
   "source": [
    "import json\n",
    "\n",
    "with open('input.json') as f:\n",
    "    user_inputs = json.load(f)"
   ]
  },
  {
   "cell_type": "code",
   "execution_count": 2,
   "metadata": {},
   "outputs": [],
   "source": [
    "items = []\n",
    "refrigeration_status = []\n",
    "quantity = []\n",
    "main_item = []"
   ]
  },
  {
   "cell_type": "code",
   "execution_count": 3,
   "metadata": {},
   "outputs": [],
   "source": [
    "anomaly = []\n",
    "mistake = []\n",
    "correct = []\n",
    "def anomaly_detection(x):\n",
    "    for i in range(len(x)):\n",
    "        for j in range(i+1, len(x)):\n",
    "            if x[i] == x[j]:\n",
    "                correct.append(x[i])\n",
    "                continue\n",
    "            else:\n",
    "                anomaly.append(j)\n",
    "                mistake.append(x[j])\n",
    "                x = [w.replace(x[j], x[i]) for w in x]\n",
    "        break\n",
    "    \n",
    "    return anomaly, x"
   ]
  },
  {
   "cell_type": "code",
   "execution_count": 4,
   "metadata": {},
   "outputs": [],
   "source": [
    "def output_writing(y):\n",
    "    with open(user_inputs['input_text'], \"r\") as fs:\n",
    "        with open(user_inputs['output_outliers'], \"w\") as fp:\n",
    "            for i, line in enumerate(fs):\n",
    "                for j in range(len(y)):\n",
    "                    if i == y[j]:\n",
    "                        z = str(i) + \" \" + line\n",
    "                        fp.write(z) "
   ]
  },
  {
   "cell_type": "code",
   "execution_count": 5,
   "metadata": {},
   "outputs": [],
   "source": [
    "def output_correcting(y):\n",
    "    with open(user_inputs['output_outliers_fixed'], \"w\") as ns:\n",
    "        for i in range(len(c)):\n",
    "            ns.write(c[i] + s[i] + m[i]) "
   ]
  },
  {
   "cell_type": "code",
   "execution_count": 6,
   "metadata": {},
   "outputs": [],
   "source": [
    "with open(user_inputs['input_text'], \"r\") as fs:\n",
    "    for line in fs:\n",
    "        fields = line.split(\",\")\n",
    "            \n",
    "        items.append(fields[0])\n",
    "        refrigeration_status.append(fields[1])\n",
    "        quantity.append(fields[2])\n",
    "            \n",
    "        it, c = anomaly_detection(items)\n",
    "        re, s = anomaly_detection(refrigeration_status)\n",
    "        qe, m = anomaly_detection(quantity)\n",
    "        \n",
    "        it = list(set(it))\n",
    "            \n",
    "        a_it = output_writing(it)\n",
    "        c_it = output_correcting(it)"
   ]
  },
  {
   "cell_type": "code",
   "execution_count": null,
   "metadata": {},
   "outputs": [],
   "source": []
  }
 ],
 "metadata": {
  "kernelspec": {
   "display_name": "Python 3",
   "language": "python",
   "name": "python3"
  },
  "language_info": {
   "codemirror_mode": {
    "name": "ipython",
    "version": 3
   },
   "file_extension": ".py",
   "mimetype": "text/x-python",
   "name": "python",
   "nbconvert_exporter": "python",
   "pygments_lexer": "ipython3",
   "version": "3.7.3"
  }
 },
 "nbformat": 4,
 "nbformat_minor": 2
}
